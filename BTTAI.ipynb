{
  "cells": [
    {
      "cell_type": "markdown",
      "metadata": {
        "colab_type": "text",
        "id": "view-in-github"
      },
      "source": [
        "<a href=\"https://colab.research.google.com/github/claudiflower/Coffee_Machine_Model/blob/main/BTTAI.ipynb\" target=\"_parent\"><img src=\"https://colab.research.google.com/assets/colab-badge.svg\" alt=\"Open In Colab\"/></a>"
      ]
    },
    {
      "cell_type": "markdown",
      "metadata": {
        "id": "Dw59Fq5GSZc5"
      },
      "source": [
        "# Accenture 2A: From Coffee Machines to Machine Learning\n",
        "\n",
        "Fall 2023\n",
        "\n",
        "Student Team: Abby Rabbany, Abir Banik, Claudia Lihar, Noor El-Hawwat, Riya Bemby"
      ]
    },
    {
      "cell_type": "markdown",
      "metadata": {
        "id": "cHKpuneHTAKx"
      },
      "source": [
        "# Business Understanding\n",
        "\n",
        "## Goal\n",
        "Our project goal is to predict the best specs for a potential client at Accenture who is looking to open a series of coffee stores in New York City.\n",
        "\n",
        "The three models we will create will make the ultimate suggestion for:\n",
        "\n",
        "1. Location: Finding the best location for a coffee shop in New York city, taking into account factors such as foot traffic, competition, profit, crime rate, etc.\n",
        "\n",
        "2. Three Specialty Items: Suggesting three menu items after scraping and analyzing Yelp datasets.\n",
        "\n",
        "3. Characteristics: Suggesting other services and characteristics of popular coffee stores in New York City, such as Wifi, music, etc.\n",
        "\n",
        "## Project Scope\n",
        "We will be creating this project over the course of 3 months, from September to December 2023, and delivering an in-person presentation of our project to Accenture."
      ]
    },
    {
      "cell_type": "markdown",
      "metadata": {
        "id": "RCuQ6b62SnHq"
      },
      "source": [
        "# Data Preparation"
      ]
    },
    {
      "cell_type": "code",
      "execution_count": 8,
      "metadata": {},
      "outputs": [
        {
          "name": "stdout",
          "output_type": "stream",
          "text": [
            "Requirement already satisfied: pyarrow in /Library/Frameworks/Python.framework/Versions/3.11/lib/python3.11/site-packages (13.0.0)\n",
            "Requirement already satisfied: numpy>=1.16.6 in /Library/Frameworks/Python.framework/Versions/3.11/lib/python3.11/site-packages (from pyarrow) (1.25.1)\n",
            "\n",
            "\u001b[1m[\u001b[0m\u001b[34;49mnotice\u001b[0m\u001b[1;39;49m]\u001b[0m\u001b[39;49m A new release of pip is available: \u001b[0m\u001b[31;49m23.1.2\u001b[0m\u001b[39;49m -> \u001b[0m\u001b[32;49m23.2.1\u001b[0m\n",
            "\u001b[1m[\u001b[0m\u001b[34;49mnotice\u001b[0m\u001b[1;39;49m]\u001b[0m\u001b[39;49m To update, run: \u001b[0m\u001b[32;49mpip3 install --upgrade pip\u001b[0m\n",
            "Note: you may need to restart the kernel to use updated packages.\n",
            "Collecting pandas\n",
            "  Downloading pandas-2.1.1-cp311-cp311-macosx_11_0_arm64.whl (10.8 MB)\n",
            "\u001b[2K     \u001b[90m━━━━━━━━━━━━━━━━━━━━━━━━━━━━━━━━━━━━━━━━\u001b[0m \u001b[32m10.8/10.8 MB\u001b[0m \u001b[31m25.1 MB/s\u001b[0m eta \u001b[36m0:00:00\u001b[0m00:01\u001b[0m0:01\u001b[0m\n",
            "\u001b[?25hRequirement already satisfied: numpy>=1.23.2 in /Library/Frameworks/Python.framework/Versions/3.11/lib/python3.11/site-packages (from pandas) (1.25.1)\n",
            "Requirement already satisfied: python-dateutil>=2.8.2 in /Users/claudialihar/Library/Python/3.11/lib/python/site-packages (from pandas) (2.8.2)\n",
            "Collecting pytz>=2020.1 (from pandas)\n",
            "  Downloading pytz-2023.3.post1-py2.py3-none-any.whl (502 kB)\n",
            "\u001b[2K     \u001b[90m━━━━━━━━━━━━━━━━━━━━━━━━━━━━━━━━━━━━━━\u001b[0m \u001b[32m502.5/502.5 kB\u001b[0m \u001b[31m13.7 MB/s\u001b[0m eta \u001b[36m0:00:00\u001b[0m\n",
            "\u001b[?25hCollecting tzdata>=2022.1 (from pandas)\n",
            "  Downloading tzdata-2023.3-py2.py3-none-any.whl (341 kB)\n",
            "\u001b[2K     \u001b[90m━━━━━━━━━━━━━━━━━━━━━━━━━━━━━━━━━━━━━━\u001b[0m \u001b[32m341.8/341.8 kB\u001b[0m \u001b[31m10.9 MB/s\u001b[0m eta \u001b[36m0:00:00\u001b[0m\n",
            "\u001b[?25hRequirement already satisfied: six>=1.5 in /Users/claudialihar/Library/Python/3.11/lib/python/site-packages (from python-dateutil>=2.8.2->pandas) (1.16.0)\n",
            "Installing collected packages: pytz, tzdata, pandas\n",
            "Successfully installed pandas-2.1.1 pytz-2023.3.post1 tzdata-2023.3\n",
            "\n",
            "\u001b[1m[\u001b[0m\u001b[34;49mnotice\u001b[0m\u001b[1;39;49m]\u001b[0m\u001b[39;49m A new release of pip is available: \u001b[0m\u001b[31;49m23.1.2\u001b[0m\u001b[39;49m -> \u001b[0m\u001b[32;49m23.2.1\u001b[0m\n",
            "\u001b[1m[\u001b[0m\u001b[34;49mnotice\u001b[0m\u001b[1;39;49m]\u001b[0m\u001b[39;49m To update, run: \u001b[0m\u001b[32;49mpip3 install --upgrade pip\u001b[0m\n",
            "Note: you may need to restart the kernel to use updated packages.\n",
            "Requirement already satisfied: numpy in /Library/Frameworks/Python.framework/Versions/3.11/lib/python3.11/site-packages (1.25.1)\n",
            "\n",
            "\u001b[1m[\u001b[0m\u001b[34;49mnotice\u001b[0m\u001b[1;39;49m]\u001b[0m\u001b[39;49m A new release of pip is available: \u001b[0m\u001b[31;49m23.1.2\u001b[0m\u001b[39;49m -> \u001b[0m\u001b[32;49m23.2.1\u001b[0m\n",
            "\u001b[1m[\u001b[0m\u001b[34;49mnotice\u001b[0m\u001b[1;39;49m]\u001b[0m\u001b[39;49m To update, run: \u001b[0m\u001b[32;49mpip3 install --upgrade pip\u001b[0m\n",
            "Note: you may need to restart the kernel to use updated packages.\n"
          ]
        }
      ],
      "source": [
        "# Packages you will need to download\n",
        "%pip install pyarrow\n",
        "%pip install pandas\n",
        "%pip install numpy"
      ]
    },
    {
      "cell_type": "markdown",
      "metadata": {},
      "source": [
        "## Yellow Taxi Data"
      ]
    },
    {
      "cell_type": "code",
      "execution_count": 66,
      "metadata": {
        "colab": {
          "base_uri": "https://localhost:8080/",
          "height": 226
        },
        "id": "FN2rRWWZRO6E",
        "outputId": "be8e6358-712d-4004-94a1-de59ff78acd6"
      },
      "outputs": [
        {
          "data": {
            "text/html": [
              "<div>\n",
              "<style scoped>\n",
              "    .dataframe tbody tr th:only-of-type {\n",
              "        vertical-align: middle;\n",
              "    }\n",
              "\n",
              "    .dataframe tbody tr th {\n",
              "        vertical-align: top;\n",
              "    }\n",
              "\n",
              "    .dataframe thead th {\n",
              "        text-align: right;\n",
              "    }\n",
              "</style>\n",
              "<table border=\"1\" class=\"dataframe\">\n",
              "  <thead>\n",
              "    <tr style=\"text-align: right;\">\n",
              "      <th></th>\n",
              "      <th>tpep_pickup_datetime</th>\n",
              "      <th>DOLocationID</th>\n",
              "    </tr>\n",
              "  </thead>\n",
              "  <tbody>\n",
              "    <tr>\n",
              "      <th>0</th>\n",
              "      <td>2023-01-01 00:32:10</td>\n",
              "      <td>141</td>\n",
              "    </tr>\n",
              "    <tr>\n",
              "      <th>1</th>\n",
              "      <td>2023-01-01 00:55:08</td>\n",
              "      <td>237</td>\n",
              "    </tr>\n",
              "    <tr>\n",
              "      <th>2</th>\n",
              "      <td>2023-01-01 00:25:04</td>\n",
              "      <td>238</td>\n",
              "    </tr>\n",
              "    <tr>\n",
              "      <th>3</th>\n",
              "      <td>2023-01-01 00:03:48</td>\n",
              "      <td>7</td>\n",
              "    </tr>\n",
              "    <tr>\n",
              "      <th>4</th>\n",
              "      <td>2023-01-01 00:10:29</td>\n",
              "      <td>79</td>\n",
              "    </tr>\n",
              "  </tbody>\n",
              "</table>\n",
              "</div>"
            ],
            "text/plain": [
              "  tpep_pickup_datetime  DOLocationID\n",
              "0  2023-01-01 00:32:10           141\n",
              "1  2023-01-01 00:55:08           237\n",
              "2  2023-01-01 00:25:04           238\n",
              "3  2023-01-01 00:03:48             7\n",
              "4  2023-01-01 00:10:29            79"
            ]
          },
          "execution_count": 66,
          "metadata": {},
          "output_type": "execute_result"
        }
      ],
      "source": [
        "import pyarrow.parquet as pq\n",
        "import pandas as pd\n",
        "import numpy as np\n",
        "\n",
        "# List of Parquet file names\n",
        "file_names = [\"taxi_data/taxi_jan2023.parquet\", \"taxi_data/taxi_feb2023.parquet\", \"taxi_data/taxi_mar2023.parquet\", \n",
        "              \"taxi_data/taxi_apr2023.parquet\", \"taxi_data/taxi_may2023.parquet\", \"taxi_data/taxi_jun2023.parquet\", \n",
        "              \"taxi_data/taxi_jan2022.parquet\", \"taxi_data/taxi_feb2022.parquet\", \"taxi_data/taxi_mar2022.parquet\",\n",
        "              \"taxi_data/taxi_apr2022.parquet\", \"taxi_data/taxi_may2022.parquet\", \"taxi_data/taxi_jun2022.parquet\",\n",
        "              \"taxi_data/taxi_jul2022.parquet\", \"taxi_data/taxi_aug2022.parquet\", \"taxi_data/taxi_sept2022.parquet\",\n",
        "              \"taxi_data/taxi_oct2022.parquet\", \"taxi_data/taxi_nov2022.parquet\", \"taxi_data/taxi_dec2022.parquet\",\n",
        "              \"taxi_data/taxi_jan2021.parquet\", \"taxi_data/taxi_feb2021.parquet\", \"taxi_data/taxi_mar2021.parquet\",\n",
        "              \"taxi_data/taxi_apr2021.parquet\", \"taxi_data/taxi_may2021.parquet\", \"taxi_data/taxi_jun2021.parquet\",\n",
        "              \"taxi_data/taxi_jul2021.parquet\", \"taxi_data/taxi_aug2021.parquet\", \"taxi_data/taxi_sept2021.parquet\",\n",
        "              \"taxi_data/taxi_oct2021.parquet\", \"taxi_data/taxi_nov2021.parquet\", \"taxi_data/taxi_dec2021.parquet\"]\n",
        "\n",
        "# Initialize an empty list to store the DataFrames\n",
        "taxi_dataframes = []\n",
        "\n",
        "# Loop through the file names and read each Parquet file\n",
        "for file_name in file_names:\n",
        "    taxi_table = pq.read_table(file_name)\n",
        "    taxi_df = taxi_table.to_pandas()\n",
        "    taxi_df = taxi_df[['tpep_pickup_datetime', 'DOLocationID']]\n",
        "    # print(len(taxi_df))\n",
        "    taxi_dataframes.append(taxi_df)\n",
        "\n",
        "# Concatenate all DataFrames in the list vertically\n",
        "taxi_combined = pd.concat(taxi_dataframes, ignore_index=True)\n",
        "taxi_combined.head()"
      ]
    },
    {
      "cell_type": "code",
      "execution_count": 3,
      "metadata": {},
      "outputs": [],
      "source": [
        "# Encode all of the neighborhoods\n",
        "neighborhood_dict = {\n",
        "    4\t: \"Alphabet City\",\n",
        "    12\t: \"Battery Park\",\n",
        "    13\t: \"Battery Park City\",\n",
        "    24\t: \"Bloomingdale\",\n",
        "    41\t: \"Central Harlem\",\n",
        "    42\t: \"Central Harlem North\",\n",
        "    43\t: \"Central Park\",\n",
        "    45\t: \"Chinatown\",\n",
        "    48\t: \"Clinton East\",\n",
        "    50\t: \"Clinton West\",\n",
        "    68\t: \"East Chelsea\",\n",
        "    74\t: \"East Harlem North\",\n",
        "    75\t: \"East Harlem South\",\n",
        "    79\t: \"East Village\",\n",
        "    87\t: \"Financial District North\",\n",
        "    88\t: \"Financial District South\",\n",
        "    90\t: \"Flatiron\",\n",
        "    100\t: \"Garment District\",\n",
        "    103\t: \"Governor's Island/Ellis Island/Liberty Island\",\n",
        "    104\t: \"Governor's Island/Ellis Island/Liberty Island\",\n",
        "    105\t: \"Governor's Island/Ellis Island/Liberty Island\",\n",
        "    107\t: \"Gramercy\",\n",
        "    113\t: \"Greenwich Village North\",\n",
        "    114\t: \"Greenwich Village South\",\n",
        "    116\t: \"Hamilton Heights\",\n",
        "    120\t: \"Highbridge Park\",\n",
        "    125\t: \"Hudson Sq\",\n",
        "    127\t: \"Inwood\",\n",
        "    128\t: \"Inwood Hill Park\",\n",
        "    137\t: \"Kips Bay\",\n",
        "    140\t: \"Lenox Hill East\",\n",
        "    141\t: \"Lenox Hill West\",\n",
        "    142\t: \"Lincoln Square East\",\n",
        "    143\t: \"Lincoln Square West\",\n",
        "    144\t: \"Little Italy\",\n",
        "    148\t: \"Lower East Side\",\n",
        "    151\t: \"Manhattan Valley\",\n",
        "    152\t: \"Manhattanville\",\n",
        "    153\t: \"Marble Hill\",\n",
        "    158\t: \"Meatpacking/West Village West\",\n",
        "    161\t: \"Midtown Center\",\n",
        "    162\t: \"Midtown East\",\n",
        "    163\t: \"Midtown North\",\n",
        "    164\t: \"Midtown South\",\n",
        "    166\t: \"Morningside Heights\",\n",
        "    170\t: \"Murray Hill\",\n",
        "    186\t: \"Penn Station/Madison Sq West\",\n",
        "    194\t: \"Randalls Island\",\n",
        "    202\t: \"Roosevelt Island\",\n",
        "    209\t: \"Seaport\",\n",
        "    211\t: \"SoHo\",\n",
        "    224\t: \"Stuy Town/Peter Cooper Village\",\n",
        "    229\t: \"Sutton Place/Turtle Bay North\",\n",
        "    230\t: \"Times Sq/Theatre District\",\n",
        "    231\t: \"TriBeCa/Civic Center\",\n",
        "    232\t: \"Two Bridges/Seward Park\",\n",
        "    233\t: \"UN/Turtle Bay South\",\n",
        "    234\t: \"Union Sq\",\n",
        "    236\t: \"Upper East Side North\",\n",
        "    237\t: \"Upper East Side South\",\n",
        "    238\t: \"Upper West Side North\",\n",
        "    239\t: \"Upper West Side South\",\n",
        "    243\t: \"Washington Heights North\",\n",
        "    244\t: \"Washington Heights South\",\n",
        "    246\t: \"West Chelsea/Hudson Yards\",\n",
        "    249\t: \"West Village\",\n",
        "    261\t: \"World Trade Center\",\n",
        "    262\t: \"Yorkville East\",\n",
        "    263\t: \"Yorkville West\"\n",
        "}\n"
      ]
    },
    {
      "cell_type": "markdown",
      "metadata": {},
      "source": [
        "This code encodes all of the districts that are found in the Taxi Zone Diagram.\n",
        "\n",
        "See: https://www.nyc.gov/assets/tlc/images/content/pages/about/taxi_zone_map_manhattan.jpg\n",
        "\n",
        "We will now match these districts with those that we use in the demographics data."
      ]
    },
    {
      "cell_type": "code",
      "execution_count": 4,
      "metadata": {},
      "outputs": [],
      "source": [
        "\"\"\" NOTES ON DATASET PARSING\n",
        "For West Village, 158 is Meatpacking + West Village West\n",
        "For Chinatown-Two Bridges, 232 is Two Bridges + Seward Park\n",
        "For Hell's Kitchen, nonexistent, estimated that 50 Clinton West was closest\n",
        "Not sure what Upper West Side (Central) is\n",
        "For Hamilton Heights-Sugar Hill 25, Sugar Hill does not exist\n",
        "For Harlem (South) 26, does not exist\n",
        "Some in the dict are never used\n",
        "\"\"\"\n",
        "\n",
        "neighborhoods_demo = {\n",
        "    # Financial District-Battery Park City\n",
        "    1: [neighborhood_dict[87], neighborhood_dict[88], neighborhood_dict[13]],\n",
        "    # Tribeca-Civic Center\n",
        "    2: [neighborhood_dict[231]],\n",
        "    # SoHo-Little Italy-Hudson Square\n",
        "    3: [neighborhood_dict[211], neighborhood_dict[144], neighborhood_dict[125]],\n",
        "    # Greenwich Village\n",
        "    4: [neighborhood_dict[113], neighborhood_dict[114]],\n",
        "    # West Village\n",
        "    5: [neighborhood_dict[249], neighborhood_dict[158]],\n",
        "    # Chinatown-Two Bridges\n",
        "    6: [neighborhood_dict[45], neighborhood_dict[232]],\n",
        "    # Lower East Side\n",
        "    7: [neighborhood_dict[148]],\n",
        "    # East Village\n",
        "    8: [neighborhood_dict[79]],\n",
        "    # Chelsea-Hudson Yards\n",
        "    9: [neighborhood_dict[68], neighborhood_dict[246]],\n",
        "    # Hell's Kitchen\n",
        "    10: [neighborhood_dict[50]],\n",
        "    # Midtown South-Flatiron-Union Square\n",
        "    11: [neighborhood_dict[164], neighborhood_dict[90], neighborhood_dict[234]],\n",
        "    # Midtown-Times Square\n",
        "    12: [neighborhood_dict[230]],\n",
        "    # Stuyvesant Town-Peter Cooper Village\n",
        "    13: [neighborhood_dict[224]],\n",
        "    # Gramercy\n",
        "    14: [neighborhood_dict[107]],\n",
        "    # Murray Hill-Kips Bay\n",
        "    15: [neighborhood_dict[170], neighborhood_dict[137]],\n",
        "    # East Midtown-Turtle Bay\n",
        "    16: [neighborhood_dict[162], neighborhood_dict[229], neighborhood_dict[233]],\n",
        "    # Upper West Side-Lincoln Square\n",
        "    17: [neighborhood_dict[142], neighborhood_dict[143]],\n",
        "    # Upper West Side (Central)\n",
        "    # 18\n",
        "    # Upper West Side-Manhattan Valley\n",
        "    19: [neighborhood_dict[151]],\n",
        "    # Upper East Side-Lenox Hill-Roosevelt Island\n",
        "    20: [neighborhood_dict[140], neighborhood_dict[141], neighborhood_dict[202]],\n",
        "    # Upper East Side-Carnegie Hill\n",
        "    # 21: [neighborhood_dict[]],\n",
        "    # Upper East Side-Yorkville\n",
        "    22: [neighborhood_dict[262], neighborhood_dict[263]],\n",
        "    # Morningside Heights\n",
        "    23: [neighborhood_dict[166]],\n",
        "    # Manhattanville-West Harlem\n",
        "    24: [neighborhood_dict[152]],\n",
        "    # Hamilton Heights-Sugar Hill\n",
        "    25: [neighborhood_dict[116]],\n",
        "    # Harlem (South)\n",
        "    # 26: [neighborhood_dict[75]],\n",
        "    # Harlem (North)\n",
        "    27: [neighborhood_dict[42]],\n",
        "    # East Harlem (South)\n",
        "    28: [neighborhood_dict[75]],\n",
        "    # East Harlem (North)\n",
        "    29: [neighborhood_dict[74]],\n",
        "    # Washington Heights (South)\n",
        "    30: [neighborhood_dict[244]],\n",
        "    # Washington Heights (North)\n",
        "    31: [neighborhood_dict[243]],\n",
        "    # Inwood\n",
        "    32: [neighborhood_dict[127]],\n",
        "    # United Nations\n",
        "    33: [neighborhood_dict[233]],\n",
        "    # The Battery-Governors Island-Ellis Island-Liberty Island\n",
        "    34: [neighborhood_dict[12], neighborhood_dict[103], neighborhood_dict[104], neighborhood_dict[105]],\n",
        "    # Randall's Island\n",
        "    35: [neighborhood_dict[194]],\n",
        "    # Highbridge Park\n",
        "    36: [neighborhood_dict[120]],\n",
        "    # Inwood Hill Park\n",
        "    37: [neighborhood_dict[128]],\n",
        "    # Central Park\n",
        "    38: [neighborhood_dict[43]]\n",
        "\n",
        "}"
      ]
    },
    {
      "cell_type": "code",
      "execution_count": 5,
      "metadata": {},
      "outputs": [
        {
          "name": "stdout",
          "output_type": "stream",
          "text": [
            "['Financial District North', 'Financial District South']\n"
          ]
        }
      ],
      "source": [
        "print(neighborhoods_demo[1])"
      ]
    },
    {
      "cell_type": "code",
      "execution_count": 73,
      "metadata": {},
      "outputs": [],
      "source": [
        "# Find the zones using TLC Taxi Zone Map, make a df with these zones \n",
        "\n",
        "manhattan_taxi_zones = [4, 12, 13, 24, 41, 42, 43, 45, 48, 50, 68, 74, \n",
        "                        75, 79, 87, 88, 90, 100, 100, 107, 113, 114, 116, \n",
        "                        120, 125, 127, 128, 137, 140, 141, 142, 143, 144, \n",
        "                        148, 152, 153, 158, 161, 162, 163, 164, 166, 170, \n",
        "                        186, 202, 211, 224, 229, 230, 231, 232, 233, 234, \n",
        "                        236, 237, 238, 239, 243, 244, 246, 249, 261, 262, 263]\n",
        "\n",
        "# This df only has neighborhoods in manhattan\n",
        "taxi_manhattan_df = (taxi_combined[taxi_combined['DOLocationID'].isin(manhattan_taxi_zones)]).sort_values(by='DOLocationID')\n"
      ]
    },
    {
      "cell_type": "code",
      "execution_count": 74,
      "metadata": {},
      "outputs": [
        {
          "data": {
            "text/html": [
              "<div>\n",
              "<style scoped>\n",
              "    .dataframe tbody tr th:only-of-type {\n",
              "        vertical-align: middle;\n",
              "    }\n",
              "\n",
              "    .dataframe tbody tr th {\n",
              "        vertical-align: top;\n",
              "    }\n",
              "\n",
              "    .dataframe thead th {\n",
              "        text-align: right;\n",
              "    }\n",
              "</style>\n",
              "<table border=\"1\" class=\"dataframe\">\n",
              "  <thead>\n",
              "    <tr style=\"text-align: right;\">\n",
              "      <th></th>\n",
              "      <th>tpep_pickup_datetime</th>\n",
              "      <th>DOLocationID</th>\n",
              "    </tr>\n",
              "  </thead>\n",
              "  <tbody>\n",
              "    <tr>\n",
              "      <th>44599510</th>\n",
              "      <td>2022-08-22 14:37:09</td>\n",
              "      <td>4</td>\n",
              "    </tr>\n",
              "    <tr>\n",
              "      <th>32303839</th>\n",
              "      <td>2022-05-02 14:39:34</td>\n",
              "      <td>4</td>\n",
              "    </tr>\n",
              "    <tr>\n",
              "      <th>85123224</th>\n",
              "      <td>2021-11-16 11:05:47</td>\n",
              "      <td>4</td>\n",
              "    </tr>\n",
              "    <tr>\n",
              "      <th>75841949</th>\n",
              "      <td>2021-08-20 15:08:37</td>\n",
              "      <td>4</td>\n",
              "    </tr>\n",
              "    <tr>\n",
              "      <th>28235919</th>\n",
              "      <td>2022-03-30 12:35:48</td>\n",
              "      <td>4</td>\n",
              "    </tr>\n",
              "  </tbody>\n",
              "</table>\n",
              "</div>"
            ],
            "text/plain": [
              "         tpep_pickup_datetime  DOLocationID\n",
              "44599510  2022-08-22 14:37:09             4\n",
              "32303839  2022-05-02 14:39:34             4\n",
              "85123224  2021-11-16 11:05:47             4\n",
              "75841949  2021-08-20 15:08:37             4\n",
              "28235919  2022-03-30 12:35:48             4"
            ]
          },
          "execution_count": 74,
          "metadata": {},
          "output_type": "execute_result"
        }
      ],
      "source": [
        "taxi_manhattan_df.head()"
      ]
    },
    {
      "cell_type": "code",
      "execution_count": null,
      "metadata": {},
      "outputs": [],
      "source": [
        "# sum each location id that is necessary for this process, and make a new df with this new information"
      ]
    }
  ],
  "metadata": {
    "colab": {
      "include_colab_link": true,
      "provenance": []
    },
    "kernelspec": {
      "display_name": "Python 3",
      "name": "python3"
    },
    "language_info": {
      "codemirror_mode": {
        "name": "ipython",
        "version": 3
      },
      "file_extension": ".py",
      "mimetype": "text/x-python",
      "name": "python",
      "nbconvert_exporter": "python",
      "pygments_lexer": "ipython3",
      "version": "3.11.4"
    }
  },
  "nbformat": 4,
  "nbformat_minor": 0
}
